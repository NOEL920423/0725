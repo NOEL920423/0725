{
 "cells": [
  {
   "cell_type": "code",
   "execution_count": 1,
   "id": "14318b16",
   "metadata": {},
   "outputs": [],
   "source": [
    "import torch\n",
    "import numpy as np"
   ]
  },
  {
   "cell_type": "code",
   "execution_count": 2,
   "id": "fb376329",
   "metadata": {},
   "outputs": [
    {
     "name": "stdout",
     "output_type": "stream",
     "text": [
      "torch.Size([])\n",
      "tensor(1, dtype=torch.int16)\n"
     ]
    }
   ],
   "source": [
    "# 0維tensor (scalar)\n",
    "t1 = torch.tensor(1, dtype=torch.int16)\n",
    "print(t1.shape)\n",
    "print(t1)"
   ]
  },
  {
   "cell_type": "code",
   "execution_count": 3,
   "id": "44ee0006",
   "metadata": {},
   "outputs": [
    {
     "name": "stdout",
     "output_type": "stream",
     "text": [
      "torch.Size([3])\n",
      "tensor([1., 2., 3.])\n"
     ]
    }
   ],
   "source": [
    "# 1維tensor (vector)\n",
    "t2 = torch.tensor([1,2,3], dtype=torch.float32)\n",
    "print(t2.shape)\n",
    "print(t2)"
   ]
  },
  {
   "cell_type": "code",
   "execution_count": 4,
   "id": "8d03f7fa",
   "metadata": {},
   "outputs": [
    {
     "name": "stdout",
     "output_type": "stream",
     "text": [
      "torch.Size([2, 2])\n",
      "tensor([[1., 2.],\n",
      "        [3., 4.]])\n"
     ]
    }
   ],
   "source": [
    "# 2維tensor (matrix)\n",
    "t3 = torch.tensor([[1.,2],[3,4]])\n",
    "print(t3.shape)\n",
    "print(t3)"
   ]
  },
  {
   "cell_type": "code",
   "execution_count": 5,
   "id": "e321e8f9",
   "metadata": {},
   "outputs": [
    {
     "name": "stdout",
     "output_type": "stream",
     "text": [
      "torch.Size([2, 2, 3])\n",
      "tensor([[[1, 2, 3],\n",
      "         [3, 4, 5]],\n",
      "\n",
      "        [[5, 6, 7],\n",
      "         [7, 8, 9]]])\n"
     ]
    }
   ],
   "source": [
    "# 3維tensor (n-dimensional array)\n",
    "t4 = torch.tensor([[[1, 2, 3], [3, 4, 5]],\n",
    "\t\t\t\t\t\t\t\t\t [[5, 6, 7], [7, 8 ,9]]])\n",
    "print(t4.shape)\n",
    "print(t4)"
   ]
  },
  {
   "cell_type": "markdown",
   "id": "649bb1af",
   "metadata": {},
   "source": [
    "除了使用 torch.tensor 的方式建立張量外，我們也可以使用下列方式，建立給定形狀的張量。\n",
    "1. torch.randn：\n",
    "由常態分佈中抽取組成張量"
   ]
  },
  {
   "cell_type": "code",
   "execution_count": null,
   "id": "3db12a6c",
   "metadata": {},
   "outputs": [],
   "source": [
    "# torch.randn: 由平均值為0，標準差為1的常態分佈中，抽樣元素組成給定形狀的張量\n",
    "t5 = torch.randn((2,3,5))\n",
    "print(t5.shape)\n",
    "print(t5)"
   ]
  },
  {
   "cell_type": "markdown",
   "id": "ddbe79d3",
   "metadata": {},
   "source": [
    "2. torch.randint：\n",
    "由上下界抽取組成張量"
   ]
  },
  {
   "cell_type": "code",
   "execution_count": null,
   "id": "4caca568",
   "metadata": {},
   "outputs": [],
   "source": [
    "# torch.randint: 在給定的上下界(預設下界為0)中抽樣\"整數\"元素組成給定形狀的張量\n",
    "t6 = torch.randint(low=0, high=10, size=(3,2))\n",
    "print(t6.shape)\n",
    "print(t6)"
   ]
  },
  {
   "cell_type": "markdown",
   "id": "dfcd3f35",
   "metadata": {},
   "source": [
    "3. torch.ones：\n",
    "產生給定形狀，元素全為 1 的張量"
   ]
  },
  {
   "cell_type": "code",
   "execution_count": null,
   "id": "410943fa",
   "metadata": {},
   "outputs": [],
   "source": [
    "# torch.ones: 產生給定形狀，元素全為1的張量\n",
    "t7 = torch.ones((2,3))\n",
    "print(t7.shape)\n",
    "print(t7)"
   ]
  },
  {
   "cell_type": "markdown",
   "id": "5d0264ec",
   "metadata": {},
   "source": [
    "4. torch.ones_like：\n",
    "產生與給定張量相同形狀，但元素全為 1 的張量"
   ]
  },
  {
   "cell_type": "code",
   "execution_count": null,
   "id": "f45e6803",
   "metadata": {},
   "outputs": [],
   "source": [
    "# torch.ones_like: 產生與給定張量相同形狀，但元素全為1的張量\n",
    "t8 = torch.ones_like(t6)\n",
    "print(t8.shape)\n",
    "print(t8)"
   ]
  },
  {
   "cell_type": "markdown",
   "id": "2e22e4ff",
   "metadata": {},
   "source": [
    "張量與陣列轉換\n",
    "先前提及 tensor 與 numpy 的 array 是很相像的資料型態，我們可以由 array 來生成 tensor，也可以將 tensor 轉換為 array。\n",
    "1. 生成 numpy array"
   ]
  },
  {
   "cell_type": "code",
   "execution_count": null,
   "id": "ee976584",
   "metadata": {},
   "outputs": [],
   "source": [
    "# 產生numpy ndarray\n",
    "x = np.array([[1.,2],[3,4]])\n",
    "print(x.shape)\n",
    "print(x)"
   ]
  },
  {
   "cell_type": "markdown",
   "id": "bdc5b20d",
   "metadata": {},
   "source": [
    "2. 由numpy array生成torch tensor"
   ]
  },
  {
   "cell_type": "code",
   "execution_count": null,
   "id": "45d060e8",
   "metadata": {},
   "outputs": [],
   "source": [
    "# 由numpy ndarray產生pytorch tensor\n",
    "y = torch.from_numpy(x)\n",
    "# y = torch.tensor(x) 也可以達到同樣效果\n",
    "print(y.shape)\n",
    "print(y)"
   ]
  },
  {
   "cell_type": "markdown",
   "id": "9987fa90",
   "metadata": {},
   "source": [
    "3. 由tensor轉換為array"
   ]
  },
  {
   "cell_type": "code",
   "execution_count": null,
   "id": "6056d404",
   "metadata": {},
   "outputs": [],
   "source": [
    "# 將tensor轉換為array\n",
    "z = y.numpy()\n",
    "print(z.shape)\n",
    "print(z)"
   ]
  }
 ],
 "metadata": {
  "kernelspec": {
   "display_name": "3.10.4",
   "language": "python",
   "name": "python3"
  },
  "language_info": {
   "codemirror_mode": {
    "name": "ipython",
    "version": 3
   },
   "file_extension": ".py",
   "mimetype": "text/x-python",
   "name": "python",
   "nbconvert_exporter": "python",
   "pygments_lexer": "ipython3",
   "version": "3.10.4"
  }
 },
 "nbformat": 4,
 "nbformat_minor": 5
}
